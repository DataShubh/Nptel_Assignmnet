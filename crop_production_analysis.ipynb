{
 "cells": [
  {
   "cell_type": "code",
   "execution_count": 1,
   "id": "c9efdd59",
   "metadata": {},
   "outputs": [],
   "source": [
    "import pandas as pd\n",
    "import numpy as np\n",
    "import seaborn as sns"
   ]
  },
  {
   "cell_type": "code",
   "execution_count": 2,
   "id": "a1534d0b",
   "metadata": {},
   "outputs": [],
   "source": [
    "\"\"\" \n",
    "i.\tRead the given dataset apy_1.csv\n",
    "ii.\tDrop the rows with missing values if any\n",
    "\"\"\"\n",
    "\n",
    "crop_data = pd.read_csv(\"apy_1.csv\", index_col= 0)"
   ]
  },
  {
   "cell_type": "markdown",
   "id": "3c0ca31b",
   "metadata": {},
   "source": [
    "\n",
    "1. Which of the following statement(s) is/are TRUE?\n",
    " The overall production during the Kharif season is 1,195,933,000 (approx.)\n",
    " The overall production during the Summer season is 34,549,800 (approx.)\n",
    " The overall production during the Autumn season is 19,690,400 (approx.)\n",
    " None of the above\n",
    "\"\"\"\n",
    "\n",
    "\n"
   ]
  },
  {
   "cell_type": "code",
   "execution_count": 3,
   "id": "771cd0f6",
   "metadata": {},
   "outputs": [
    {
     "name": "stdout",
     "output_type": "stream",
     "text": [
      "<class 'pandas.core.frame.DataFrame'>\n",
      "Int64Index: 73827 entries, 0 to 73826\n",
      "Data columns (total 7 columns):\n",
      " #   Column         Non-Null Count  Dtype  \n",
      "---  ------         --------------  -----  \n",
      " 0   State_Name     73827 non-null  object \n",
      " 1   District_Name  73827 non-null  object \n",
      " 2   Crop_Year      73827 non-null  int64  \n",
      " 3   Season         73827 non-null  object \n",
      " 4   Crop           73827 non-null  object \n",
      " 5   Area           73827 non-null  float64\n",
      " 6   Production     72731 non-null  float64\n",
      "dtypes: float64(2), int64(1), object(4)\n",
      "memory usage: 4.5+ MB\n"
     ]
    },
    {
     "data": {
      "text/plain": [
       "Season\n",
       "Autumn         1.969044e+07\n",
       "Summer         4.920665e+07\n",
       "Winter         1.321746e+08\n",
       "Rabi           6.151127e+08\n",
       "Kharif         1.195933e+09\n",
       "Whole Year     4.315616e+10\n",
       "Name: Production, dtype: float64"
      ]
     },
     "execution_count": 3,
     "metadata": {},
     "output_type": "execute_result"
    }
   ],
   "source": [
    "crop_data.info()\n",
    "crop_data.dropna(axis= 0, inplace=True)\n",
    "crop_data.isnull().sum()\n",
    "\n",
    "crop_data.groupby(\"Season\")[\"Production\"].sum().sort_values()"
   ]
  },
  {
   "cell_type": "markdown",
   "id": "83f5c570",
   "metadata": {},
   "source": [
    "2. Which of the following set of crop(s) is/are produced during the Whole year season? (select option with all that apply)\n",
    " Sugarcane, Garlic, Mango, Arhar/Tur\n",
    " Paddy, Maize, Moong (Green Gram), Onion, Apple\n",
    " Banana, Coriander, Gram, Rapeseed & Mustard, Sweet lime\n",
    " Cabbage, Bitter Gourd, Masoor, Cucumber"
   ]
  },
  {
   "cell_type": "code",
   "execution_count": 4,
   "id": "4ae606f8",
   "metadata": {},
   "outputs": [
    {
     "name": "stdout",
     "output_type": "stream",
     "text": [
      "{'Grapes', 'Carrot', 'Rubber', 'Sunflower', 'Bajra', 'Peas & beans (Pulses)', 'Sugarcane', 'Cardamom', 'Bitter Gourd', 'Jute & mesta', 'Ber', 'Cabbage', 'Onion', 'Beans & Mutter(Vegetable)', 'Total foodgrain', 'Wheat', 'Coconut ', 'Arecanut', 'Rapeseed &Mustard', 'Masoor', 'Plums', 'Ribed Guard', 'Kapas', 'Tobacco', 'Moth', 'Litchi', 'Sannhamp', 'Castor seed', 'Khesari', 'Bhindi', 'Brinjal', 'Pear', 'Guar seed', 'Pulses total', 'Niger seed', 'Peas  (vegetable)', 'Oilseeds total', 'Sweet potato', 'Lab-Lab', 'Apple', 'Drum Stick', 'other fibres', 'Ash Gourd', 'Mesta', 'Cashewnut Raw', 'Bottle Gourd', 'Cashewnut Processed', 'Other Vegetables', 'Pump Kin', 'Jowar', 'Rice', 'Safflower', 'Arhar/Tur', 'Sesamum', 'Linseed', 'Papaya', 'Pome Granet', 'Dry chillies', 'Small millets', 'Cashewnut', 'Ragi', 'Ginger', 'Pome Fruit', 'Peach', 'Jack Fruit', 'Urad', 'Moong(Green Gram)', 'Atcanut (Raw)', 'Gram', 'Pineapple', 'Yam', 'Cucumber', 'Other Fresh Fruits', 'Banana', 'Turmeric', 'Garlic', 'Redish', 'Coriander', 'Cotton(lint)', 'Tea', 'Snak Guard', 'Maize', 'Tomato', 'Black pepper', 'Orange', 'Turnip', 'other oilseeds', 'Beet Root', 'Other Citrus Fruit', 'Tapioca', 'Water Melon', 'Dry ginger', 'Barley', 'Cauliflower', 'Citrus Fruit', 'Mango', 'Arcanut (Processed)', 'Potato', 'Groundnut', 'Horse-gram', 'Soyabean'}\n",
      "a is present\n",
      "b is not present\n",
      "c is not present\n",
      "d is present\n"
     ]
    }
   ],
   "source": [
    "np.unique(crop_data[\"Season\"])\n",
    "\n",
    "whole_year = crop_data.loc[crop_data[\"Season\"] == 'Whole Year ']\n",
    "\n",
    "np.unique(whole_year[\"Crop\"])\n",
    "\n",
    "whole_yearcrop = set(np.unique(whole_year[\"Crop\"]))\n",
    "\n",
    "print(whole_yearcrop)\n",
    "\n",
    "croplist = { 'a' : ['Sugarcane', 'Garlic', 'Mango', 'Arhar/Tur'], 'b' : ['Paddy', 'Maize', 'Moong (Green Gram)', 'Onion', \n",
    "            'Apple'] , 'c' : ['Banana', 'Coriander', 'Gram', 'Rapeseed & Mustard', \n",
    "            'Sweet lime'], 'd' : ['Cabbage', 'Bitter Gourd', 'Masoor', 'Cucumber']  }\n",
    "croplist.keys()\n",
    "croplist.values()\n",
    "\n",
    "for k in croplist.keys():\n",
    "    if set(croplist[k]) & whole_yearcrop == set(croplist[k]):\n",
    "        print(k, \"is present\")\n",
    "    else:\n",
    "        print(k, \"is not present\")"
   ]
  },
  {
   "cell_type": "code",
   "execution_count": 5,
   "id": "ed531e10",
   "metadata": {},
   "outputs": [
    {
     "name": "stdout",
     "output_type": "stream",
     "text": [
      "Present\n"
     ]
    }
   ],
   "source": [
    "# Or you can do individual options as set\n",
    "a = set (['Sugarcane', 'Garlic', 'Mango', 'Arhar/Tur'])\n",
    "if (a & whole_yearcrop) == a :\n",
    "    print (\"Present\")\n",
    "else:\n",
    "    print(\"Not Present\")"
   ]
  },
  {
   "cell_type": "markdown",
   "id": "2f56df88",
   "metadata": {},
   "source": [
    "3.Which district in India has the lowest crop production?\n",
    " Coimbatore\n",
    " Thrissur\n",
    " Kannur\n",
    " Mumbai"
   ]
  },
  {
   "cell_type": "code",
   "execution_count": 6,
   "id": "8f497446",
   "metadata": {},
   "outputs": [
    {
     "data": {
      "text/plain": [
       "District_Name\n",
       "MUMBAI                2.000000e+00\n",
       "HYDERABAD             3.060000e+02\n",
       "NAMSAI                7.940000e+02\n",
       "RAMGARH               8.930000e+02\n",
       "RAMBAN                1.578000e+03\n",
       "                          ...     \n",
       "THIRUVANANTHAPURAM    2.963416e+09\n",
       "KASARAGOD             3.479150e+09\n",
       "THRISSUR              3.681628e+09\n",
       "MALAPPURAM            4.375478e+09\n",
       "KOZHIKODE             6.012791e+09\n",
       "Name: Production, Length: 646, dtype: float64"
      ]
     },
     "execution_count": 6,
     "metadata": {},
     "output_type": "execute_result"
    }
   ],
   "source": [
    "\n",
    "crop_data.groupby(\"District_Name\")[\"Production\"].sum().sort_values(ascending = True)"
   ]
  },
  {
   "cell_type": "markdown",
   "id": "f908f335",
   "metadata": {},
   "source": [
    "4. \n",
    "During which year did West Bengal have the highest crop production?"
   ]
  },
  {
   "cell_type": "code",
   "execution_count": 7,
   "id": "0235ebfe",
   "metadata": {},
   "outputs": [
    {
     "data": {
      "text/plain": [
       "Crop_Year\n",
       "2001      7689550.7\n",
       "2000      8323849.0\n",
       "2004      8608367.5\n",
       "1999      9195580.0\n",
       "2005      9494050.0\n",
       "1998      9988608.3\n",
       "2008     10030521.0\n",
       "2011     10949803.0\n",
       "2010     12338035.0\n",
       "2002     12559002.1\n",
       "2013     13494606.0\n",
       "2012     13498244.0\n",
       "2003     14170705.6\n",
       "2009     14476077.0\n",
       "2014     18302156.0\n",
       "1997     22472430.0\n",
       "2006    173250298.0\n",
       "2007    201537048.0\n",
       "Name: Production, dtype: float64"
      ]
     },
     "execution_count": 7,
     "metadata": {},
     "output_type": "execute_result"
    }
   ],
   "source": [
    "np.unique(crop_data[\"State_Name\"])\n",
    "crop_data.loc[crop_data[\"State_Name\"] == 'West Bengal' ].groupby(\"Crop_Year\")[\"Production\"].sum().sort_values()"
   ]
  },
  {
   "cell_type": "markdown",
   "id": "14560eda",
   "metadata": {},
   "source": [
    "5.Which state in India has the second highest crop production? (Overall, for all years)\n",
    " Andhra Pradesh\n",
    " Tamil Nadu\n",
    " Kerala\n",
    " Uttar Pradesh"
   ]
  },
  {
   "cell_type": "code",
   "execution_count": 8,
   "id": "9be7671b",
   "metadata": {},
   "outputs": [
    {
     "data": {
      "text/plain": [
       "State_Name\n",
       "Kerala                         3.314056e+10\n",
       "Tamil Nadu                     4.045188e+09\n",
       "Andhra Pradesh                 3.595973e+09\n",
       "Uttar Pradesh                  9.890559e+08\n",
       "Assam                          6.019920e+08\n",
       "West Bengal                    5.703789e+08\n",
       "Maharashtra                    3.621771e+08\n",
       "Andaman and Nicobar Islands    2.936291e+08\n",
       "Karnataka                      2.640385e+08\n",
       "Goa                            2.367726e+08\n",
       "Punjab                         1.710590e+08\n",
       "Gujarat                        1.500758e+08\n",
       "Madhya Pradesh                 1.300390e+08\n",
       "Bihar                          1.125670e+08\n",
       "Telangana                      9.946250e+07\n",
       "Haryana                        9.644999e+07\n",
       "Rajasthan                      8.756090e+07\n",
       "Puducherry                     7.539482e+07\n",
       "Odisha                         4.635979e+07\n",
       "Uttarakhand                    3.685920e+07\n",
       "Chhattisgarh                   3.260849e+07\n",
       "Himachal Pradesh               5.828741e+06\n",
       "Meghalaya                      4.059699e+06\n",
       "Tripura                        3.975350e+06\n",
       "Jammu and Kashmir              3.870168e+06\n",
       "Jharkhand                      3.416858e+06\n",
       "Nagaland                       3.340025e+06\n",
       "Arunachal Pradesh              2.181652e+06\n",
       "Manipur                        1.560800e+06\n",
       "Dadra and Nagar Haveli         6.919730e+05\n",
       "Sikkim                         6.453750e+05\n",
       "Mizoram                        4.704351e+05\n",
       "Chandigarh                     2.923000e+04\n",
       "Name: Production, dtype: float64"
      ]
     },
     "execution_count": 8,
     "metadata": {},
     "output_type": "execute_result"
    }
   ],
   "source": [
    "\n",
    "crop_data.groupby(\"State_Name\")[\"Production\"].sum().sort_values(ascending = False)\n"
   ]
  },
  {
   "cell_type": "markdown",
   "id": "7a703990",
   "metadata": {},
   "source": [
    "6. How are the variables Area and Production correlated?\n",
    " There exists a positive correlation between Area and Production\n",
    " There exists a negative correlation between Area and Production\n",
    " Area and Production are not correlated\n",
    " Cannot be determined"
   ]
  },
  {
   "cell_type": "code",
   "execution_count": 9,
   "id": "c1783f6a",
   "metadata": {},
   "outputs": [
    {
     "data": {
      "text/html": [
       "<div>\n",
       "<style scoped>\n",
       "    .dataframe tbody tr th:only-of-type {\n",
       "        vertical-align: middle;\n",
       "    }\n",
       "\n",
       "    .dataframe tbody tr th {\n",
       "        vertical-align: top;\n",
       "    }\n",
       "\n",
       "    .dataframe thead th {\n",
       "        text-align: right;\n",
       "    }\n",
       "</style>\n",
       "<table border=\"1\" class=\"dataframe\">\n",
       "  <thead>\n",
       "    <tr style=\"text-align: right;\">\n",
       "      <th></th>\n",
       "      <th>Crop_Year</th>\n",
       "      <th>Area</th>\n",
       "      <th>Production</th>\n",
       "    </tr>\n",
       "  </thead>\n",
       "  <tbody>\n",
       "    <tr>\n",
       "      <th>Crop_Year</th>\n",
       "      <td>1.000000</td>\n",
       "      <td>-0.023267</td>\n",
       "      <td>0.007422</td>\n",
       "    </tr>\n",
       "    <tr>\n",
       "      <th>Area</th>\n",
       "      <td>-0.023267</td>\n",
       "      <td>1.000000</td>\n",
       "      <td>0.041043</td>\n",
       "    </tr>\n",
       "    <tr>\n",
       "      <th>Production</th>\n",
       "      <td>0.007422</td>\n",
       "      <td>0.041043</td>\n",
       "      <td>1.000000</td>\n",
       "    </tr>\n",
       "  </tbody>\n",
       "</table>\n",
       "</div>"
      ],
      "text/plain": [
       "            Crop_Year      Area  Production\n",
       "Crop_Year    1.000000 -0.023267    0.007422\n",
       "Area        -0.023267  1.000000    0.041043\n",
       "Production   0.007422  0.041043    1.000000"
      ]
     },
     "execution_count": 9,
     "metadata": {},
     "output_type": "execute_result"
    }
   ],
   "source": [
    "crop_data.corr() # No correlation"
   ]
  },
  {
   "cell_type": "markdown",
   "id": "cac0aed9",
   "metadata": {},
   "source": [
    "7.What is the average crop production?\n",
    " 17,065,810.29 (approx.)\n",
    " 50,857.44 (approx.)\n",
    " 242,361.35 (approx.)\n",
    " 621,031.95 (approx.)"
   ]
  },
  {
   "cell_type": "code",
   "execution_count": 10,
   "id": "b2f86e7c",
   "metadata": {},
   "outputs": [
    {
     "data": {
      "text/plain": [
       "621031.9533575779"
      ]
     },
     "execution_count": 10,
     "metadata": {},
     "output_type": "execute_result"
    }
   ],
   "source": [
    "np.mean(crop_data[\"Production\"])"
   ]
  },
  {
   "cell_type": "markdown",
   "id": "0548b82d",
   "metadata": {},
   "source": [
    "8. \n",
    " What is the standard deviation of production?\n",
    " 17,497,558.29 (approx.)\n",
    " 50,857.44 (approx.)\n",
    " 242,361.35 (approx.)\n",
    " 582,503.45 (approx.)"
   ]
  },
  {
   "cell_type": "code",
   "execution_count": 11,
   "id": "1db27539",
   "metadata": {},
   "outputs": [
    {
     "data": {
      "text/plain": [
       "17497437.99787031"
      ]
     },
     "execution_count": 11,
     "metadata": {},
     "output_type": "execute_result"
    }
   ],
   "source": [
    "np.std(crop_data[\"Production\"])"
   ]
  },
  {
   "cell_type": "markdown",
   "id": "ac91e09e",
   "metadata": {},
   "source": [
    "9. Due to some unknown reasons, the crop production for only two states was recorded for 2015. Which states are they?\n",
    " Tamil Nadu and Kerala\n",
    " Kerala and Andhra Pradesh\n",
    " Odisha and Sikkim\n",
    " Sikkim and Punjab"
   ]
  },
  {
   "cell_type": "code",
   "execution_count": 12,
   "id": "56104334",
   "metadata": {},
   "outputs": [
    {
     "data": {
      "text/plain": [
       "State_Name  District_Name   Crop_Year  Season       Crop               Area     Production\n",
       "Odisha      ANUGUL          2015       Autumn       Maize              472.0    548.1         1\n",
       "            MALKANGIRI      2015       Summer       Maize              15.0     18.3          1\n",
       "                                       Winter       Rice               86000.0  120000.0      1\n",
       "                                                    Sesamum            6555.0   1173.3        1\n",
       "            MAYURBHANJ      2015       Autumn       Sesamum            77.0     27.9          1\n",
       "                                                                                             ..\n",
       "Sikkim      SOUTH DISTRICT  2015       Rabi         Rapeseed &Mustard  1233.0   1150.0        1\n",
       "                                                    Wheat              110.0    118.0         1\n",
       "            WEST DISTRICT   2015       Kharif       Rice               3016.0   5851.0        1\n",
       "                                                    Small millets      711.0    744.0         1\n",
       "                                                    Urad               914.0    811.0         1\n",
       "Length: 180, dtype: int64"
      ]
     },
     "execution_count": 12,
     "metadata": {},
     "output_type": "execute_result"
    }
   ],
   "source": [
    "crop_data.loc[crop_data[\"Crop_Year\"] == 2015].groupby(\"State_Name\").value_counts()"
   ]
  },
  {
   "cell_type": "markdown",
   "id": "aea05cae",
   "metadata": {},
   "source": [
    "10.\n",
    "The top three produced crops in the year 2005 are ______\n",
    " Wheat, Potato, Rice\n",
    " Coconut, Potato, Sugarcane\n",
    " Coconut, Sugarcane, Rice\n",
    " Sugarcane, Rice, Wheat"
   ]
  },
  {
   "cell_type": "code",
   "execution_count": 13,
   "id": "d5ddb938",
   "metadata": {},
   "outputs": [
    {
     "data": {
      "text/plain": [
       "Crop\n",
       "other oilseeds             1.320000e+02\n",
       "Cardamom                   6.330000e+02\n",
       "Sannhamp                   1.520500e+03\n",
       "Oilseeds total             4.066000e+03\n",
       "Other Cereals & Millets    1.771840e+04\n",
       "Niger seed                 2.178100e+04\n",
       "Cashewnut                  2.552022e+04\n",
       "Other  Rabi pulses         3.138100e+04\n",
       "Black pepper               3.699095e+04\n",
       "Linseed                    4.511500e+04\n",
       "Other Kharif pulses        4.870190e+04\n",
       "Horse-gram                 5.050140e+04\n",
       "Moth                       5.253100e+04\n",
       "Peas & beans (Pulses)      6.438700e+04\n",
       "Tobacco                    7.230860e+04\n",
       "Small millets              9.555200e+04\n",
       "Castor seed                9.884800e+04\n",
       "Turmeric                   1.023300e+05\n",
       "Coriander                  1.072420e+05\n",
       "Safflower                  1.135730e+05\n",
       "Masoor                     1.199445e+05\n",
       "Khesari                    1.374330e+05\n",
       "Sweet potato               1.395124e+05\n",
       "Guar seed                  1.863670e+05\n",
       "Mesta                      1.913420e+05\n",
       "Urad                       1.929020e+05\n",
       "Dry chillies               2.064979e+05\n",
       "Dry ginger                 2.214940e+05\n",
       "Ragi                       2.273326e+05\n",
       "Garlic                     2.376830e+05\n",
       "Sunflower                  2.825520e+05\n",
       "Moong(Green Gram)          2.877472e+05\n",
       "Sesamum                    2.975051e+05\n",
       "Barley                     4.064190e+05\n",
       "Arecanut                   5.002335e+05\n",
       "Arhar/Tur                  9.327981e+05\n",
       "Jowar                      1.055894e+06\n",
       "Tapioca                    1.294518e+06\n",
       "Gram                       1.473350e+06\n",
       "Groundnut                  1.514708e+06\n",
       "Rapeseed &Mustard          1.836295e+06\n",
       "Jute                       1.865302e+06\n",
       "Bajra                      2.230519e+06\n",
       "Soyabean                   2.726688e+06\n",
       "Onion                      2.968874e+06\n",
       "Banana                     3.591008e+06\n",
       "Maize                      4.378044e+06\n",
       "Cotton(lint)               4.882576e+06\n",
       "Potato                     5.478746e+06\n",
       "Wheat                      1.678397e+07\n",
       "Rice                       2.874587e+07\n",
       "Sugarcane                  1.050091e+08\n",
       "Coconut                    2.700626e+09\n",
       "Name: Production, dtype: float64"
      ]
     },
     "execution_count": 13,
     "metadata": {},
     "output_type": "execute_result"
    }
   ],
   "source": [
    "crop_data.loc[crop_data[\"Crop_Year\"] == 2005].groupby(\"Crop\")[\"Production\"].sum().sort_values()"
   ]
  },
  {
   "cell_type": "markdown",
   "id": "4fb98371",
   "metadata": {},
   "source": [
    "11. State whether the given statements are True or False\n",
    "\n",
    "I.Crop year and Area are weakly correlated\n",
    "II.Crop year and Production are strongly correlated"
   ]
  },
  {
   "cell_type": "code",
   "execution_count": 14,
   "id": "719ef08d",
   "metadata": {},
   "outputs": [
    {
     "data": {
      "text/html": [
       "<div>\n",
       "<style scoped>\n",
       "    .dataframe tbody tr th:only-of-type {\n",
       "        vertical-align: middle;\n",
       "    }\n",
       "\n",
       "    .dataframe tbody tr th {\n",
       "        vertical-align: top;\n",
       "    }\n",
       "\n",
       "    .dataframe thead th {\n",
       "        text-align: right;\n",
       "    }\n",
       "</style>\n",
       "<table border=\"1\" class=\"dataframe\">\n",
       "  <thead>\n",
       "    <tr style=\"text-align: right;\">\n",
       "      <th></th>\n",
       "      <th>Crop_Year</th>\n",
       "      <th>Area</th>\n",
       "      <th>Production</th>\n",
       "    </tr>\n",
       "  </thead>\n",
       "  <tbody>\n",
       "    <tr>\n",
       "      <th>Crop_Year</th>\n",
       "      <td>1.000000</td>\n",
       "      <td>-0.023267</td>\n",
       "      <td>0.007422</td>\n",
       "    </tr>\n",
       "    <tr>\n",
       "      <th>Area</th>\n",
       "      <td>-0.023267</td>\n",
       "      <td>1.000000</td>\n",
       "      <td>0.041043</td>\n",
       "    </tr>\n",
       "    <tr>\n",
       "      <th>Production</th>\n",
       "      <td>0.007422</td>\n",
       "      <td>0.041043</td>\n",
       "      <td>1.000000</td>\n",
       "    </tr>\n",
       "  </tbody>\n",
       "</table>\n",
       "</div>"
      ],
      "text/plain": [
       "            Crop_Year      Area  Production\n",
       "Crop_Year    1.000000 -0.023267    0.007422\n",
       "Area        -0.023267  1.000000    0.041043\n",
       "Production   0.007422  0.041043    1.000000"
      ]
     },
     "execution_count": 14,
     "metadata": {},
     "output_type": "execute_result"
    }
   ],
   "source": [
    "crop_data.corr() # 1 true , 2 is false"
   ]
  },
  {
   "cell_type": "markdown",
   "id": "93923399",
   "metadata": {},
   "source": [
    "12. \n",
    "Which year has the lowest crop production?\n",
    " 2011\n",
    " 2010\n",
    " 2015\n",
    " 2009"
   ]
  },
  {
   "cell_type": "code",
   "execution_count": 15,
   "id": "3957bd86",
   "metadata": {},
   "outputs": [
    {
     "data": {
      "text/plain": [
       "Crop_Year\n",
       "2015    2.114047e+06\n",
       "1997    2.768054e+08\n",
       "1998    5.356398e+08\n",
       "2014    1.390088e+09\n",
       "2003    1.394080e+09\n",
       "2007    1.771568e+09\n",
       "1999    1.873175e+09\n",
       "2000    1.964593e+09\n",
       "2013    2.023688e+09\n",
       "2008    2.088889e+09\n",
       "2002    2.616621e+09\n",
       "2010    2.654638e+09\n",
       "2005    2.892020e+09\n",
       "2001    3.086705e+09\n",
       "2006    3.709813e+09\n",
       "2009    3.739178e+09\n",
       "2012    3.876649e+09\n",
       "2004    3.896185e+09\n",
       "2011    5.375825e+09\n",
       "Name: Production, dtype: float64"
      ]
     },
     "execution_count": 15,
     "metadata": {},
     "output_type": "execute_result"
    }
   ],
   "source": [
    "crop_data.groupby(\"Crop_Year\")[\"Production\"].sum().sort_values()"
   ]
  },
  {
   "cell_type": "markdown",
   "id": "ba552431",
   "metadata": {},
   "source": [
    "13.The crop that Maharashtra produced the most is ________\n",
    " Sugarcane\n",
    " Rice\n",
    " Banana\n",
    " Coconut"
   ]
  },
  {
   "cell_type": "code",
   "execution_count": 16,
   "id": "55f50e94",
   "metadata": {},
   "outputs": [
    {
     "data": {
      "text/plain": [
       "Crop\n",
       "Tobacco                         2100.0\n",
       "Pulses total                    3173.0\n",
       "other oilseeds                  4500.0\n",
       "Rapeseed &Mustard              12999.0\n",
       "Castor seed                    15151.5\n",
       "Total foodgrain                28818.0\n",
       "Other Cereals & Millets        42500.0\n",
       "Linseed                        42612.0\n",
       "Tomato                         57970.0\n",
       "Small millets                  76400.0\n",
       "Niger seed                     76692.0\n",
       "Sesamum                       107764.0\n",
       "Other  Rabi pulses            148552.0\n",
       "Grapes                        152147.0\n",
       "Other Kharif pulses           169240.0\n",
       "Mango                         195730.0\n",
       "Safflower                     605498.0\n",
       "Sunflower                     670642.0\n",
       "Ragi                          860385.0\n",
       "Banana                        862240.0\n",
       "Urad                         1177100.0\n",
       "Moong(Green Gram)            1269842.0\n",
       "Onion                        1473341.0\n",
       "Groundnut                    1938415.0\n",
       "Arhar/Tur                    3588511.0\n",
       "Gram                         4553927.0\n",
       "Maize                        5201836.0\n",
       "Wheat                        5514841.0\n",
       "Bajra                        6666151.0\n",
       "Rice                        10030395.0\n",
       "Soyabean                    11377612.0\n",
       "Jowar                       17912993.0\n",
       "Cotton(lint)                23426604.0\n",
       "Sugarcane                  263910376.0\n",
       "Name: Production, dtype: float64"
      ]
     },
     "execution_count": 16,
     "metadata": {},
     "output_type": "execute_result"
    }
   ],
   "source": [
    "crop_data.loc[crop_data.State_Name == 'Maharashtra'].groupby(\"Crop\")[\"Production\"].sum().sort_values()\n"
   ]
  },
  {
   "cell_type": "markdown",
   "id": "c9d7c1c7",
   "metadata": {},
   "source": [
    "14.Prepare the dataset further by following the steps given below: \n",
    "\t●Ensure the datatypes of the columns are appropriate\n",
    "\t●Drop all the variables except “Area” and “Production”\n",
    "\t●Split the data into the train (80%) and test (20%) sets, and set the random state for the train-test split instance as 111\n",
    "\n",
    "Build a linear regression model using the training dataset by having “Area” as the independent variable and “Production” as the dependent variable.\n",
    "Using the model that has been built, answer the following question.\n",
    "\n",
    "\n",
    "What does the R-squared value calculated for the model built signify?\n",
    " The model is good as the R-squared-value is close to 1\n",
    " The model is not good as the R-squared-value is close to 0\n",
    " R-squared-value does not show the performance of the model\n",
    " R-squared-value cannot be computed with this data"
   ]
  },
  {
   "cell_type": "code",
   "execution_count": 17,
   "id": "58748f7c",
   "metadata": {},
   "outputs": [],
   "source": [
    "data = crop_data.loc[: , [\"Area\", \"Production\"]] "
   ]
  },
  {
   "cell_type": "code",
   "execution_count": 18,
   "id": "2de1bfbf",
   "metadata": {},
   "outputs": [],
   "source": [
    "from sklearn.model_selection import train_test_split\n"
   ]
  },
  {
   "cell_type": "code",
   "execution_count": 32,
   "id": "592b4320",
   "metadata": {},
   "outputs": [],
   "source": [
    "from sklearn.linear_model import LinearRegression\n",
    "from sklearn.metrics import mean_squared_error"
   ]
  },
  {
   "cell_type": "code",
   "execution_count": 20,
   "id": "ed6b79e1",
   "metadata": {},
   "outputs": [
    {
     "data": {
      "text/html": [
       "<div>\n",
       "<style scoped>\n",
       "    .dataframe tbody tr th:only-of-type {\n",
       "        vertical-align: middle;\n",
       "    }\n",
       "\n",
       "    .dataframe tbody tr th {\n",
       "        vertical-align: top;\n",
       "    }\n",
       "\n",
       "    .dataframe thead th {\n",
       "        text-align: right;\n",
       "    }\n",
       "</style>\n",
       "<table border=\"1\" class=\"dataframe\">\n",
       "  <thead>\n",
       "    <tr style=\"text-align: right;\">\n",
       "      <th></th>\n",
       "      <th>Area</th>\n",
       "      <th>Production</th>\n",
       "    </tr>\n",
       "  </thead>\n",
       "  <tbody>\n",
       "    <tr>\n",
       "      <th>0</th>\n",
       "      <td>81934.0</td>\n",
       "      <td>160425.0</td>\n",
       "    </tr>\n",
       "    <tr>\n",
       "      <th>1</th>\n",
       "      <td>257.0</td>\n",
       "      <td>514.0</td>\n",
       "    </tr>\n",
       "    <tr>\n",
       "      <th>2</th>\n",
       "      <td>100.0</td>\n",
       "      <td>100.0</td>\n",
       "    </tr>\n",
       "    <tr>\n",
       "      <th>3</th>\n",
       "      <td>2872.0</td>\n",
       "      <td>4572.0</td>\n",
       "    </tr>\n",
       "    <tr>\n",
       "      <th>4</th>\n",
       "      <td>110.0</td>\n",
       "      <td>1290.0</td>\n",
       "    </tr>\n",
       "  </tbody>\n",
       "</table>\n",
       "</div>"
      ],
      "text/plain": [
       "      Area  Production\n",
       "0  81934.0    160425.0\n",
       "1    257.0       514.0\n",
       "2    100.0       100.0\n",
       "3   2872.0      4572.0\n",
       "4    110.0      1290.0"
      ]
     },
     "execution_count": 20,
     "metadata": {},
     "output_type": "execute_result"
    }
   ],
   "source": [
    "data.head()"
   ]
  },
  {
   "cell_type": "code",
   "execution_count": 21,
   "id": "e292e0d7",
   "metadata": {},
   "outputs": [],
   "source": [
    "x = data.drop(['Production'], axis = 1, inplace = False)"
   ]
  },
  {
   "cell_type": "code",
   "execution_count": 22,
   "id": "1205f5c9",
   "metadata": {},
   "outputs": [],
   "source": [
    "y = data.Production"
   ]
  },
  {
   "cell_type": "code",
   "execution_count": 23,
   "id": "1fae5d47",
   "metadata": {},
   "outputs": [
    {
     "data": {
      "text/html": [
       "<div>\n",
       "<style scoped>\n",
       "    .dataframe tbody tr th:only-of-type {\n",
       "        vertical-align: middle;\n",
       "    }\n",
       "\n",
       "    .dataframe tbody tr th {\n",
       "        vertical-align: top;\n",
       "    }\n",
       "\n",
       "    .dataframe thead th {\n",
       "        text-align: right;\n",
       "    }\n",
       "</style>\n",
       "<table border=\"1\" class=\"dataframe\">\n",
       "  <thead>\n",
       "    <tr style=\"text-align: right;\">\n",
       "      <th></th>\n",
       "      <th>Area</th>\n",
       "    </tr>\n",
       "  </thead>\n",
       "  <tbody>\n",
       "    <tr>\n",
       "      <th>0</th>\n",
       "      <td>81934.0</td>\n",
       "    </tr>\n",
       "    <tr>\n",
       "      <th>1</th>\n",
       "      <td>257.0</td>\n",
       "    </tr>\n",
       "    <tr>\n",
       "      <th>2</th>\n",
       "      <td>100.0</td>\n",
       "    </tr>\n",
       "    <tr>\n",
       "      <th>3</th>\n",
       "      <td>2872.0</td>\n",
       "    </tr>\n",
       "    <tr>\n",
       "      <th>4</th>\n",
       "      <td>110.0</td>\n",
       "    </tr>\n",
       "  </tbody>\n",
       "</table>\n",
       "</div>"
      ],
      "text/plain": [
       "      Area\n",
       "0  81934.0\n",
       "1    257.0\n",
       "2    100.0\n",
       "3   2872.0\n",
       "4    110.0"
      ]
     },
     "execution_count": 23,
     "metadata": {},
     "output_type": "execute_result"
    }
   ],
   "source": [
    "x.head()"
   ]
  },
  {
   "cell_type": "code",
   "execution_count": 24,
   "id": "b12ccdbb",
   "metadata": {},
   "outputs": [
    {
     "data": {
      "text/plain": [
       "73822     1918.00\n",
       "73823       11.00\n",
       "73824     9100.00\n",
       "73825    20137.00\n",
       "73826    18552.95\n",
       "Name: Production, dtype: float64"
      ]
     },
     "execution_count": 24,
     "metadata": {},
     "output_type": "execute_result"
    }
   ],
   "source": [
    "y.tail()"
   ]
  },
  {
   "cell_type": "code",
   "execution_count": 25,
   "id": "1107a70c",
   "metadata": {},
   "outputs": [
    {
     "name": "stdout",
     "output_type": "stream",
     "text": [
      "          Area\n",
      "22943  90384.0\n",
      "30934    600.0\n",
      "40887  15107.0\n",
      "19628      2.0\n",
      "20896    100.0\n",
      "...        ...\n",
      "38407   2467.0\n",
      "29218  14864.0\n",
      "25625   3519.0\n",
      "4895   14595.0\n",
      "10349   2229.0\n",
      "\n",
      "[58184 rows x 1 columns]           Area\n",
      "8555    2400.0\n",
      "65858     33.0\n",
      "13878  14215.0\n",
      "4248     181.0\n",
      "69272    337.0\n",
      "...        ...\n",
      "52318    150.0\n",
      "13737   1433.0\n",
      "34477  39200.0\n",
      "69865   1768.0\n",
      "68253    578.0\n",
      "\n",
      "[14547 rows x 1 columns] 22943    175616.0\n",
      "30934       300.0\n",
      "40887     51090.0\n",
      "19628         1.0\n",
      "20896       100.0\n",
      "           ...   \n",
      "38407      3894.0\n",
      "29218     11480.0\n",
      "25625      1569.0\n",
      "4895      16058.0\n",
      "10349       972.0\n",
      "Name: Production, Length: 58184, dtype: float64 8555       1100.0\n",
      "65858        15.0\n",
      "13878    356484.0\n",
      "4248       1791.0\n",
      "69272        84.0\n",
      "           ...   \n",
      "52318      1889.0\n",
      "13737      1430.0\n",
      "34477     25500.0\n",
      "69865       818.6\n",
      "68253       271.0\n",
      "Name: Production, Length: 14547, dtype: float64\n"
     ]
    }
   ],
   "source": [
    "x_train, x_test, y_train, y_test = train_test_split(x, y ,test_size = 0.2, random_state =111)\n",
    "print( x_train, x_test, y_train, y_test)"
   ]
  },
  {
   "cell_type": "code",
   "execution_count": 26,
   "id": "cfcd74e3",
   "metadata": {},
   "outputs": [
    {
     "name": "stdout",
     "output_type": "stream",
     "text": [
      "755421.4120114114\n"
     ]
    }
   ],
   "source": [
    "#Finding mean for test data value\n",
    "base_pred = np.mean(y_test)\n",
    "print(base_pred)"
   ]
  },
  {
   "cell_type": "code",
   "execution_count": 27,
   "id": "d7c985cd",
   "metadata": {},
   "outputs": [
    {
     "name": "stdout",
     "output_type": "stream",
     "text": [
      "[755421.41201141 755421.41201141 755421.41201141 ... 755421.41201141\n",
      " 755421.41201141 755421.41201141]\n"
     ]
    }
   ],
   "source": [
    "# repeating the same value till length of test data\n",
    "base_pred= np.repeat(base_pred, len(y_test))\n",
    "print(base_pred)"
   ]
  },
  {
   "cell_type": "code",
   "execution_count": 33,
   "id": "cfd43db0",
   "metadata": {},
   "outputs": [
    {
     "name": "stdout",
     "output_type": "stream",
     "text": [
      "360184626263589.6\n"
     ]
    }
   ],
   "source": [
    "#finding mean squared error\n",
    "mse = mean_squared_error(y_test, base_pred)\n",
    "print(mse)"
   ]
  },
  {
   "cell_type": "code",
   "execution_count": 34,
   "id": "7b791b5b",
   "metadata": {},
   "outputs": [
    {
     "name": "stdout",
     "output_type": "stream",
     "text": [
      "18978530.666613515\n"
     ]
    }
   ],
   "source": [
    "# finding RMSE rootmeansquareerror\n",
    "rmse=np.sqrt(mse)\n",
    "print(rmse)\n"
   ]
  },
  {
   "cell_type": "markdown",
   "id": "b0ad5fc9",
   "metadata": {},
   "source": [
    "Linear Regression Model"
   ]
  },
  {
   "cell_type": "code",
   "execution_count": 36,
   "id": "ea6da17e",
   "metadata": {},
   "outputs": [],
   "source": [
    "lgr = LinearRegression(fit_intercept = True)\n",
    "model = lgr.fit(x_train, y_train)"
   ]
  },
  {
   "cell_type": "code",
   "execution_count": 38,
   "id": "2584b00c",
   "metadata": {},
   "outputs": [
    {
     "name": "stdout",
     "output_type": "stream",
     "text": [
      "[463307.05513031 433677.20798679 611205.9330351  ... 923965.4306611\n",
      " 455395.74824619 440499.45838528]\n"
     ]
    }
   ],
   "source": [
    "prediction = lgr.predict(x_test)\n",
    "print(prediction)"
   ]
  },
  {
   "cell_type": "code",
   "execution_count": 39,
   "id": "f19fd25d",
   "metadata": {},
   "outputs": [
    {
     "name": "stdout",
     "output_type": "stream",
     "text": [
      "359573856463100.2\n",
      "18962432.767530125\n"
     ]
    }
   ],
   "source": [
    "#Calculating rmse for linear Regression Model\n",
    "lin_mse = mean_squared_error(y_test, prediction)\n",
    "print(lin_mse)\n",
    "lin_rmse = np.sqrt(lin_mse)\n",
    "print(lin_rmse)"
   ]
  },
  {
   "cell_type": "code",
   "execution_count": 41,
   "id": "ad36b853",
   "metadata": {},
   "outputs": [
    {
     "name": "stdout",
     "output_type": "stream",
     "text": [
      "0.0016486698798432453 0.0016957131314162543\n"
     ]
    }
   ],
   "source": [
    "# R squared value for model built\n",
    "r2_train = model.score(x_train, y_train)\n",
    "r2_test = model.score(x_test, y_test)\n",
    "print (r2_train, r2_test) #---> model is not goods as r squared close to zero "
   ]
  },
  {
   "cell_type": "code",
   "execution_count": 44,
   "id": "8a55ccdb",
   "metadata": {},
   "outputs": [
    {
     "data": {
      "text/plain": [
       "<Figure size 1152x1152 with 0 Axes>"
      ]
     },
     "execution_count": 44,
     "metadata": {},
     "output_type": "execute_result"
    },
    {
     "data": {
      "text/plain": [
       "<Figure size 1152x1152 with 0 Axes>"
      ]
     },
     "metadata": {},
     "output_type": "display_data"
    }
   ],
   "source": [
    "import matplotlib.pyplot as plt\n",
    "# residuals plotting\n",
    "plt.figure(figsize= (16, 16))"
   ]
  },
  {
   "cell_type": "code",
   "execution_count": 45,
   "id": "0ae650e4",
   "metadata": {},
   "outputs": [],
   "source": [
    "residuals = y_test - prediction"
   ]
  },
  {
   "cell_type": "code",
   "execution_count": 48,
   "id": "6fac22f2",
   "metadata": {},
   "outputs": [
    {
     "data": {
      "text/plain": [
       "count    1.454700e+04\n",
       "mean     1.664163e+05\n",
       "std      1.896235e+07\n",
       "min     -3.812070e+07\n",
       "25%     -4.762995e+05\n",
       "50%     -4.379083e+05\n",
       "75%     -4.336725e+05\n",
       "max      8.519411e+08\n",
       "Name: Production, dtype: float64"
      ]
     },
     "execution_count": 48,
     "metadata": {},
     "output_type": "execute_result"
    },
    {
     "data": {
      "image/png": "[encoded data removed]",
      "text/plain": [
       "<Figure size 432x288 with 1 Axes>"
      ]
     },
     "metadata": {
      "needs_background": "light"
     },
     "output_type": "display_data"
    }
   ],
   "source": [
    "sns.regplot(x = x_test, y = residuals, scatter = True, fit_reg = False, data = crop_data)\n",
    "residuals.describe()"
   ]
  },
  {
   "cell_type": "markdown",
   "id": "64b1ee20",
   "metadata": {},
   "source": [
    "# Regression diagnostics - Residual plot analysis\n",
    "Model is not good, mean value is far from predicted value"
   ]
  },
  {
   "cell_type": "code",
   "execution_count": null,
   "id": "5202e587",
   "metadata": {},
   "outputs": [],
   "source": []
  },
  {
   "cell_type": "code",
   "execution_count": null,
   "id": "4163cef7",
   "metadata": {},
   "outputs": [],
   "source": []
  }
 ],
 "metadata": {
  "kernelspec": {
   "display_name": "Python 3 (ipykernel)",
   "language": "python",
   "name": "python3"
  },
  "language_info": {
   "codemirror_mode": {
    "name": "ipython",
    "version": 3
   },
   "file_extension": ".py",
   "mimetype": "text/x-python",
   "name": "python",
   "nbconvert_exporter": "python",
   "pygments_lexer": "ipython3",
   "version": "3.10.6"
  }
 },
 "nbformat": 4,
 "nbformat_minor": 5
}
